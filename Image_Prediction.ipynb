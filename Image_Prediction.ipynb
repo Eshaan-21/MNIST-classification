{
 "cells": [
  {
   "cell_type": "code",
   "execution_count": 5,
   "id": "0032f78d",
   "metadata": {},
   "outputs": [
    {
     "name": "stdout",
     "output_type": "stream",
     "text": [
      "Requirement already satisfied: opencv-python in c:\\users\\eshaan\\miniconda3\\envs\\epochdev\\lib\\site-packages (4.12.0.88)\n",
      "Requirement already satisfied: numpy<2.3.0,>=2 in c:\\users\\eshaan\\miniconda3\\envs\\epochdev\\lib\\site-packages (from opencv-python) (2.2.6)\n"
     ]
    }
   ],
   "source": [
    "!pip install opencv-python"
   ]
  },
  {
   "cell_type": "code",
   "execution_count": 6,
   "id": "61ea7147",
   "metadata": {},
   "outputs": [
    {
     "name": "stderr",
     "output_type": "stream",
     "text": [
      "WARNING:absl:Compiled the loaded model, but the compiled metrics have yet to be built. `model.compile_metrics` will be empty until you train or evaluate the model.\n"
     ]
    },
    {
     "ename": "error",
     "evalue": "OpenCV(4.12.0) D:\\a\\opencv-python\\opencv-python\\opencv\\modules\\imgproc\\src\\resize.cpp:4208: error: (-215:Assertion failed) !ssize.empty() in function 'cv::resize'\n",
     "output_type": "error",
     "traceback": [
      "\u001b[31m---------------------------------------------------------------------------\u001b[39m",
      "\u001b[31merror\u001b[39m                                     Traceback (most recent call last)",
      "\u001b[36mCell\u001b[39m\u001b[36m \u001b[39m\u001b[32mIn[6]\u001b[39m\u001b[32m, line 32\u001b[39m\n\u001b[32m     29\u001b[39m     \u001b[38;5;28;01mreturn\u001b[39;00m predicted_digit\n\u001b[32m     31\u001b[39m \u001b[38;5;66;03m# Prediction \u001b[39;00m\n\u001b[32m---> \u001b[39m\u001b[32m32\u001b[39m \u001b[43mpredict_digit\u001b[49m\u001b[43m(\u001b[49m\u001b[33;43m\"\u001b[39;49m\u001b[33;43mnum_predict(1).jpg\u001b[39;49m\u001b[33;43m\"\u001b[39;49m\u001b[43m)\u001b[49m\n",
      "\u001b[36mCell\u001b[39m\u001b[36m \u001b[39m\u001b[32mIn[6]\u001b[39m\u001b[32m, line 14\u001b[39m, in \u001b[36mpredict_digit\u001b[39m\u001b[34m(img_path)\u001b[39m\n\u001b[32m     11\u001b[39m img = cv2.imread(\u001b[33m'\u001b[39m\u001b[33mC:/Users/Eshaan/Downloads/num_predict(1).jpg)\u001b[39m\u001b[33m'\u001b[39m, cv2.IMREAD_GRAYSCALE)\n\u001b[32m     13\u001b[39m \u001b[38;5;66;03m# Resize to 28x28\u001b[39;00m\n\u001b[32m---> \u001b[39m\u001b[32m14\u001b[39m img = \u001b[43mcv2\u001b[49m\u001b[43m.\u001b[49m\u001b[43mresize\u001b[49m\u001b[43m(\u001b[49m\u001b[43mimg\u001b[49m\u001b[43m,\u001b[49m\u001b[43m \u001b[49m\u001b[43m(\u001b[49m\u001b[32;43m28\u001b[39;49m\u001b[43m,\u001b[49m\u001b[43m \u001b[49m\u001b[32;43m28\u001b[39;49m\u001b[43m)\u001b[49m\u001b[43m)\u001b[49m\n\u001b[32m     16\u001b[39m \u001b[38;5;66;03m# Invert colors if background is white (MNIST digits are white on black)\u001b[39;00m\n\u001b[32m     17\u001b[39m \u001b[38;5;28;01mif\u001b[39;00m np.mean(img) > \u001b[32m127\u001b[39m:\n",
      "\u001b[31merror\u001b[39m: OpenCV(4.12.0) D:\\a\\opencv-python\\opencv-python\\opencv\\modules\\imgproc\\src\\resize.cpp:4208: error: (-215:Assertion failed) !ssize.empty() in function 'cv::resize'\n"
     ]
    }
   ],
   "source": [
    "from tensorflow.keras.models import load_model\n",
    "from tensorflow.keras.preprocessing import image\n",
    "import numpy as np\n",
    "import cv2\n",
    "\n",
    "# Load the saved model\n",
    "model = load_model(\"mnist_digit_classifier.h5\")\n",
    "\n",
    "def predict_digit(img_path):\n",
    "    # Load the image in grayscale\n",
    "    img = cv2.imread('C:/Users/Eshaan/Downloads/num_predict(1).jpg)', cv2.IMREAD_GRAYSCALE)\n",
    "    \n",
    "    # Resize to 28x28\n",
    "    img = cv2.resize(img, (28, 28))\n",
    "    \n",
    "    # Invert colors if background is white (MNIST digits are white on black)\n",
    "    if np.mean(img) > 127:\n",
    "        img = 255 - img\n",
    "\n",
    "    # Normalize and reshape\n",
    "    img = img.astype(\"float32\") / 255.0\n",
    "    img = img.reshape(1, 784)  # Flatten to match the model’s input\n",
    "    \n",
    "    # Predict\n",
    "    prediction = model.predict(img)\n",
    "    predicted_digit = np.argmax(prediction)\n",
    "    \n",
    "    print(f\"Predicted digit: {predicted_digit}\")\n",
    "    return predicted_digit\n",
    "\n",
    "# Prediction \n",
    "predict_digit(\"num_predict(1).jpg\")\n"
   ]
  },
  {
   "cell_type": "code",
   "execution_count": null,
   "id": "87bbf4ba",
   "metadata": {},
   "outputs": [],
   "source": []
  }
 ],
 "metadata": {
  "kernelspec": {
   "display_name": "epochdev",
   "language": "python",
   "name": "python3"
  },
  "language_info": {
   "codemirror_mode": {
    "name": "ipython",
    "version": 3
   },
   "file_extension": ".py",
   "mimetype": "text/x-python",
   "name": "python",
   "nbconvert_exporter": "python",
   "pygments_lexer": "ipython3",
   "version": "3.13.7"
  }
 },
 "nbformat": 4,
 "nbformat_minor": 5
}
